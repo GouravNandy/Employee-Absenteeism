{
 "cells": [
  {
   "cell_type": "code",
   "execution_count": 1,
   "metadata": {},
   "outputs": [],
   "source": [
    "import numpy as np\n",
    "import pandas as pd\n",
    "import os\n",
    "import matplotlib.pyplot as plt\n",
    "import seaborn as sns\n",
    "from sklearn.impute import KNNImputer\n",
    "%matplotlib inline"
   ]
  },
  {
   "cell_type": "code",
   "execution_count": 2,
   "metadata": {},
   "outputs": [],
   "source": [
    "os.chdir(r'E:\\My career\\Data Science\\EDwisor\\Projects\\Employee Absentism')"
   ]
  },
  {
   "cell_type": "code",
   "execution_count": 3,
   "metadata": {},
   "outputs": [
    {
     "data": {
      "text/plain": [
       "'E:\\\\My career\\\\Data Science\\\\EDwisor\\\\Projects\\\\Employee Absentism'"
      ]
     },
     "execution_count": 3,
     "metadata": {},
     "output_type": "execute_result"
    }
   ],
   "source": [
    "os.getcwd()"
   ]
  },
  {
   "cell_type": "code",
   "execution_count": 4,
   "metadata": {},
   "outputs": [],
   "source": [
    "df = pd.read_excel('Absenteeism_at_work_Project.xls')"
   ]
  },
  {
   "cell_type": "code",
   "execution_count": 5,
   "metadata": {},
   "outputs": [
    {
     "data": {
      "text/html": [
       "<div>\n",
       "<style scoped>\n",
       "    .dataframe tbody tr th:only-of-type {\n",
       "        vertical-align: middle;\n",
       "    }\n",
       "\n",
       "    .dataframe tbody tr th {\n",
       "        vertical-align: top;\n",
       "    }\n",
       "\n",
       "    .dataframe thead th {\n",
       "        text-align: right;\n",
       "    }\n",
       "</style>\n",
       "<table border=\"1\" class=\"dataframe\">\n",
       "  <thead>\n",
       "    <tr style=\"text-align: right;\">\n",
       "      <th></th>\n",
       "      <th>ID</th>\n",
       "      <th>Reason for absence</th>\n",
       "      <th>Month of absence</th>\n",
       "      <th>Day of the week</th>\n",
       "      <th>Seasons</th>\n",
       "      <th>Transportation expense</th>\n",
       "      <th>Distance from Residence to Work</th>\n",
       "      <th>Service time</th>\n",
       "      <th>Age</th>\n",
       "      <th>Work load Average/day</th>\n",
       "      <th>...</th>\n",
       "      <th>Disciplinary failure</th>\n",
       "      <th>Education</th>\n",
       "      <th>Son</th>\n",
       "      <th>Social drinker</th>\n",
       "      <th>Social smoker</th>\n",
       "      <th>Pet</th>\n",
       "      <th>Weight</th>\n",
       "      <th>Height</th>\n",
       "      <th>Body mass index</th>\n",
       "      <th>Absenteeism time in hours</th>\n",
       "    </tr>\n",
       "  </thead>\n",
       "  <tbody>\n",
       "    <tr>\n",
       "      <th>0</th>\n",
       "      <td>11</td>\n",
       "      <td>26.0</td>\n",
       "      <td>7.0</td>\n",
       "      <td>3</td>\n",
       "      <td>1</td>\n",
       "      <td>289.0</td>\n",
       "      <td>36.0</td>\n",
       "      <td>13.0</td>\n",
       "      <td>33.0</td>\n",
       "      <td>239554.0</td>\n",
       "      <td>...</td>\n",
       "      <td>0.0</td>\n",
       "      <td>1.0</td>\n",
       "      <td>2.0</td>\n",
       "      <td>1.0</td>\n",
       "      <td>0.0</td>\n",
       "      <td>1.0</td>\n",
       "      <td>90.0</td>\n",
       "      <td>172.0</td>\n",
       "      <td>30.0</td>\n",
       "      <td>4.0</td>\n",
       "    </tr>\n",
       "    <tr>\n",
       "      <th>1</th>\n",
       "      <td>36</td>\n",
       "      <td>0.0</td>\n",
       "      <td>7.0</td>\n",
       "      <td>3</td>\n",
       "      <td>1</td>\n",
       "      <td>118.0</td>\n",
       "      <td>13.0</td>\n",
       "      <td>18.0</td>\n",
       "      <td>50.0</td>\n",
       "      <td>239554.0</td>\n",
       "      <td>...</td>\n",
       "      <td>1.0</td>\n",
       "      <td>1.0</td>\n",
       "      <td>1.0</td>\n",
       "      <td>1.0</td>\n",
       "      <td>0.0</td>\n",
       "      <td>0.0</td>\n",
       "      <td>98.0</td>\n",
       "      <td>178.0</td>\n",
       "      <td>31.0</td>\n",
       "      <td>0.0</td>\n",
       "    </tr>\n",
       "    <tr>\n",
       "      <th>2</th>\n",
       "      <td>3</td>\n",
       "      <td>23.0</td>\n",
       "      <td>7.0</td>\n",
       "      <td>4</td>\n",
       "      <td>1</td>\n",
       "      <td>179.0</td>\n",
       "      <td>51.0</td>\n",
       "      <td>18.0</td>\n",
       "      <td>38.0</td>\n",
       "      <td>239554.0</td>\n",
       "      <td>...</td>\n",
       "      <td>0.0</td>\n",
       "      <td>1.0</td>\n",
       "      <td>0.0</td>\n",
       "      <td>1.0</td>\n",
       "      <td>0.0</td>\n",
       "      <td>0.0</td>\n",
       "      <td>89.0</td>\n",
       "      <td>170.0</td>\n",
       "      <td>31.0</td>\n",
       "      <td>2.0</td>\n",
       "    </tr>\n",
       "    <tr>\n",
       "      <th>3</th>\n",
       "      <td>7</td>\n",
       "      <td>7.0</td>\n",
       "      <td>7.0</td>\n",
       "      <td>5</td>\n",
       "      <td>1</td>\n",
       "      <td>279.0</td>\n",
       "      <td>5.0</td>\n",
       "      <td>14.0</td>\n",
       "      <td>39.0</td>\n",
       "      <td>239554.0</td>\n",
       "      <td>...</td>\n",
       "      <td>0.0</td>\n",
       "      <td>1.0</td>\n",
       "      <td>2.0</td>\n",
       "      <td>1.0</td>\n",
       "      <td>1.0</td>\n",
       "      <td>0.0</td>\n",
       "      <td>68.0</td>\n",
       "      <td>168.0</td>\n",
       "      <td>24.0</td>\n",
       "      <td>4.0</td>\n",
       "    </tr>\n",
       "    <tr>\n",
       "      <th>4</th>\n",
       "      <td>11</td>\n",
       "      <td>23.0</td>\n",
       "      <td>7.0</td>\n",
       "      <td>5</td>\n",
       "      <td>1</td>\n",
       "      <td>289.0</td>\n",
       "      <td>36.0</td>\n",
       "      <td>13.0</td>\n",
       "      <td>33.0</td>\n",
       "      <td>239554.0</td>\n",
       "      <td>...</td>\n",
       "      <td>0.0</td>\n",
       "      <td>1.0</td>\n",
       "      <td>2.0</td>\n",
       "      <td>1.0</td>\n",
       "      <td>0.0</td>\n",
       "      <td>1.0</td>\n",
       "      <td>90.0</td>\n",
       "      <td>172.0</td>\n",
       "      <td>30.0</td>\n",
       "      <td>2.0</td>\n",
       "    </tr>\n",
       "  </tbody>\n",
       "</table>\n",
       "<p>5 rows × 21 columns</p>\n",
       "</div>"
      ],
      "text/plain": [
       "   ID  Reason for absence  Month of absence  Day of the week  Seasons  \\\n",
       "0  11                26.0               7.0                3        1   \n",
       "1  36                 0.0               7.0                3        1   \n",
       "2   3                23.0               7.0                4        1   \n",
       "3   7                 7.0               7.0                5        1   \n",
       "4  11                23.0               7.0                5        1   \n",
       "\n",
       "   Transportation expense  Distance from Residence to Work  Service time  \\\n",
       "0                   289.0                             36.0          13.0   \n",
       "1                   118.0                             13.0          18.0   \n",
       "2                   179.0                             51.0          18.0   \n",
       "3                   279.0                              5.0          14.0   \n",
       "4                   289.0                             36.0          13.0   \n",
       "\n",
       "    Age  Work load Average/day   ...  Disciplinary failure  Education  Son  \\\n",
       "0  33.0                239554.0  ...                   0.0        1.0  2.0   \n",
       "1  50.0                239554.0  ...                   1.0        1.0  1.0   \n",
       "2  38.0                239554.0  ...                   0.0        1.0  0.0   \n",
       "3  39.0                239554.0  ...                   0.0        1.0  2.0   \n",
       "4  33.0                239554.0  ...                   0.0        1.0  2.0   \n",
       "\n",
       "   Social drinker  Social smoker  Pet  Weight  Height  Body mass index  \\\n",
       "0             1.0            0.0  1.0    90.0   172.0             30.0   \n",
       "1             1.0            0.0  0.0    98.0   178.0             31.0   \n",
       "2             1.0            0.0  0.0    89.0   170.0             31.0   \n",
       "3             1.0            1.0  0.0    68.0   168.0             24.0   \n",
       "4             1.0            0.0  1.0    90.0   172.0             30.0   \n",
       "\n",
       "   Absenteeism time in hours  \n",
       "0                        4.0  \n",
       "1                        0.0  \n",
       "2                        2.0  \n",
       "3                        4.0  \n",
       "4                        2.0  \n",
       "\n",
       "[5 rows x 21 columns]"
      ]
     },
     "execution_count": 5,
     "metadata": {},
     "output_type": "execute_result"
    }
   ],
   "source": [
    "df.head()"
   ]
  },
  {
   "cell_type": "code",
   "execution_count": 6,
   "metadata": {},
   "outputs": [
    {
     "data": {
      "text/html": [
       "<div>\n",
       "<style scoped>\n",
       "    .dataframe tbody tr th:only-of-type {\n",
       "        vertical-align: middle;\n",
       "    }\n",
       "\n",
       "    .dataframe tbody tr th {\n",
       "        vertical-align: top;\n",
       "    }\n",
       "\n",
       "    .dataframe thead th {\n",
       "        text-align: right;\n",
       "    }\n",
       "</style>\n",
       "<table border=\"1\" class=\"dataframe\">\n",
       "  <thead>\n",
       "    <tr style=\"text-align: right;\">\n",
       "      <th></th>\n",
       "      <th>ID</th>\n",
       "      <th>Reason for absence</th>\n",
       "      <th>Month of absence</th>\n",
       "      <th>Day of the week</th>\n",
       "      <th>Seasons</th>\n",
       "      <th>Transportation expense</th>\n",
       "      <th>Distance from Residence to Work</th>\n",
       "      <th>Service time</th>\n",
       "      <th>Age</th>\n",
       "      <th>Work load Average/day</th>\n",
       "      <th>...</th>\n",
       "      <th>Disciplinary failure</th>\n",
       "      <th>Education</th>\n",
       "      <th>Son</th>\n",
       "      <th>Social drinker</th>\n",
       "      <th>Social smoker</th>\n",
       "      <th>Pet</th>\n",
       "      <th>Weight</th>\n",
       "      <th>Height</th>\n",
       "      <th>Body mass index</th>\n",
       "      <th>Absenteeism time in hours</th>\n",
       "    </tr>\n",
       "  </thead>\n",
       "  <tbody>\n",
       "    <tr>\n",
       "      <th>count</th>\n",
       "      <td>740.000000</td>\n",
       "      <td>737.000000</td>\n",
       "      <td>739.000000</td>\n",
       "      <td>740.000000</td>\n",
       "      <td>740.000000</td>\n",
       "      <td>733.000000</td>\n",
       "      <td>737.000000</td>\n",
       "      <td>737.000000</td>\n",
       "      <td>737.000000</td>\n",
       "      <td>730.000000</td>\n",
       "      <td>...</td>\n",
       "      <td>734.000000</td>\n",
       "      <td>730.000000</td>\n",
       "      <td>734.000000</td>\n",
       "      <td>737.000000</td>\n",
       "      <td>736.000000</td>\n",
       "      <td>738.000000</td>\n",
       "      <td>739.000000</td>\n",
       "      <td>726.000000</td>\n",
       "      <td>709.000000</td>\n",
       "      <td>718.000000</td>\n",
       "    </tr>\n",
       "    <tr>\n",
       "      <th>mean</th>\n",
       "      <td>18.017568</td>\n",
       "      <td>19.188602</td>\n",
       "      <td>6.319350</td>\n",
       "      <td>3.914865</td>\n",
       "      <td>2.544595</td>\n",
       "      <td>221.035471</td>\n",
       "      <td>29.667571</td>\n",
       "      <td>12.565807</td>\n",
       "      <td>36.449118</td>\n",
       "      <td>271188.860274</td>\n",
       "      <td>...</td>\n",
       "      <td>0.053134</td>\n",
       "      <td>1.295890</td>\n",
       "      <td>1.017711</td>\n",
       "      <td>0.567164</td>\n",
       "      <td>0.073370</td>\n",
       "      <td>0.746612</td>\n",
       "      <td>79.063599</td>\n",
       "      <td>172.152893</td>\n",
       "      <td>26.684062</td>\n",
       "      <td>6.977716</td>\n",
       "    </tr>\n",
       "    <tr>\n",
       "      <th>std</th>\n",
       "      <td>11.021247</td>\n",
       "      <td>8.437493</td>\n",
       "      <td>3.435948</td>\n",
       "      <td>1.421675</td>\n",
       "      <td>1.111831</td>\n",
       "      <td>66.954179</td>\n",
       "      <td>14.848124</td>\n",
       "      <td>4.389813</td>\n",
       "      <td>6.480148</td>\n",
       "      <td>38981.880873</td>\n",
       "      <td>...</td>\n",
       "      <td>0.224453</td>\n",
       "      <td>0.676965</td>\n",
       "      <td>1.094928</td>\n",
       "      <td>0.495805</td>\n",
       "      <td>0.260919</td>\n",
       "      <td>1.319726</td>\n",
       "      <td>12.868630</td>\n",
       "      <td>6.081065</td>\n",
       "      <td>4.292819</td>\n",
       "      <td>13.476962</td>\n",
       "    </tr>\n",
       "    <tr>\n",
       "      <th>min</th>\n",
       "      <td>1.000000</td>\n",
       "      <td>0.000000</td>\n",
       "      <td>0.000000</td>\n",
       "      <td>2.000000</td>\n",
       "      <td>1.000000</td>\n",
       "      <td>118.000000</td>\n",
       "      <td>5.000000</td>\n",
       "      <td>1.000000</td>\n",
       "      <td>27.000000</td>\n",
       "      <td>205917.000000</td>\n",
       "      <td>...</td>\n",
       "      <td>0.000000</td>\n",
       "      <td>1.000000</td>\n",
       "      <td>0.000000</td>\n",
       "      <td>0.000000</td>\n",
       "      <td>0.000000</td>\n",
       "      <td>0.000000</td>\n",
       "      <td>56.000000</td>\n",
       "      <td>163.000000</td>\n",
       "      <td>19.000000</td>\n",
       "      <td>0.000000</td>\n",
       "    </tr>\n",
       "    <tr>\n",
       "      <th>25%</th>\n",
       "      <td>9.000000</td>\n",
       "      <td>13.000000</td>\n",
       "      <td>3.000000</td>\n",
       "      <td>3.000000</td>\n",
       "      <td>2.000000</td>\n",
       "      <td>179.000000</td>\n",
       "      <td>16.000000</td>\n",
       "      <td>9.000000</td>\n",
       "      <td>31.000000</td>\n",
       "      <td>244387.000000</td>\n",
       "      <td>...</td>\n",
       "      <td>0.000000</td>\n",
       "      <td>1.000000</td>\n",
       "      <td>0.000000</td>\n",
       "      <td>0.000000</td>\n",
       "      <td>0.000000</td>\n",
       "      <td>0.000000</td>\n",
       "      <td>69.000000</td>\n",
       "      <td>169.000000</td>\n",
       "      <td>24.000000</td>\n",
       "      <td>2.000000</td>\n",
       "    </tr>\n",
       "    <tr>\n",
       "      <th>50%</th>\n",
       "      <td>18.000000</td>\n",
       "      <td>23.000000</td>\n",
       "      <td>6.000000</td>\n",
       "      <td>4.000000</td>\n",
       "      <td>3.000000</td>\n",
       "      <td>225.000000</td>\n",
       "      <td>26.000000</td>\n",
       "      <td>13.000000</td>\n",
       "      <td>37.000000</td>\n",
       "      <td>264249.000000</td>\n",
       "      <td>...</td>\n",
       "      <td>0.000000</td>\n",
       "      <td>1.000000</td>\n",
       "      <td>1.000000</td>\n",
       "      <td>1.000000</td>\n",
       "      <td>0.000000</td>\n",
       "      <td>0.000000</td>\n",
       "      <td>83.000000</td>\n",
       "      <td>170.000000</td>\n",
       "      <td>25.000000</td>\n",
       "      <td>3.000000</td>\n",
       "    </tr>\n",
       "    <tr>\n",
       "      <th>75%</th>\n",
       "      <td>28.000000</td>\n",
       "      <td>26.000000</td>\n",
       "      <td>9.000000</td>\n",
       "      <td>5.000000</td>\n",
       "      <td>4.000000</td>\n",
       "      <td>260.000000</td>\n",
       "      <td>50.000000</td>\n",
       "      <td>16.000000</td>\n",
       "      <td>40.000000</td>\n",
       "      <td>284853.000000</td>\n",
       "      <td>...</td>\n",
       "      <td>0.000000</td>\n",
       "      <td>1.000000</td>\n",
       "      <td>2.000000</td>\n",
       "      <td>1.000000</td>\n",
       "      <td>0.000000</td>\n",
       "      <td>1.000000</td>\n",
       "      <td>89.000000</td>\n",
       "      <td>172.000000</td>\n",
       "      <td>31.000000</td>\n",
       "      <td>8.000000</td>\n",
       "    </tr>\n",
       "    <tr>\n",
       "      <th>max</th>\n",
       "      <td>36.000000</td>\n",
       "      <td>28.000000</td>\n",
       "      <td>12.000000</td>\n",
       "      <td>6.000000</td>\n",
       "      <td>4.000000</td>\n",
       "      <td>388.000000</td>\n",
       "      <td>52.000000</td>\n",
       "      <td>29.000000</td>\n",
       "      <td>58.000000</td>\n",
       "      <td>378884.000000</td>\n",
       "      <td>...</td>\n",
       "      <td>1.000000</td>\n",
       "      <td>4.000000</td>\n",
       "      <td>4.000000</td>\n",
       "      <td>1.000000</td>\n",
       "      <td>1.000000</td>\n",
       "      <td>8.000000</td>\n",
       "      <td>108.000000</td>\n",
       "      <td>196.000000</td>\n",
       "      <td>38.000000</td>\n",
       "      <td>120.000000</td>\n",
       "    </tr>\n",
       "  </tbody>\n",
       "</table>\n",
       "<p>8 rows × 21 columns</p>\n",
       "</div>"
      ],
      "text/plain": [
       "               ID  Reason for absence  Month of absence  Day of the week  \\\n",
       "count  740.000000          737.000000        739.000000       740.000000   \n",
       "mean    18.017568           19.188602          6.319350         3.914865   \n",
       "std     11.021247            8.437493          3.435948         1.421675   \n",
       "min      1.000000            0.000000          0.000000         2.000000   \n",
       "25%      9.000000           13.000000          3.000000         3.000000   \n",
       "50%     18.000000           23.000000          6.000000         4.000000   \n",
       "75%     28.000000           26.000000          9.000000         5.000000   \n",
       "max     36.000000           28.000000         12.000000         6.000000   \n",
       "\n",
       "          Seasons  Transportation expense  Distance from Residence to Work  \\\n",
       "count  740.000000              733.000000                       737.000000   \n",
       "mean     2.544595              221.035471                        29.667571   \n",
       "std      1.111831               66.954179                        14.848124   \n",
       "min      1.000000              118.000000                         5.000000   \n",
       "25%      2.000000              179.000000                        16.000000   \n",
       "50%      3.000000              225.000000                        26.000000   \n",
       "75%      4.000000              260.000000                        50.000000   \n",
       "max      4.000000              388.000000                        52.000000   \n",
       "\n",
       "       Service time         Age  Work load Average/day   ...  \\\n",
       "count    737.000000  737.000000              730.000000  ...   \n",
       "mean      12.565807   36.449118           271188.860274  ...   \n",
       "std        4.389813    6.480148            38981.880873  ...   \n",
       "min        1.000000   27.000000           205917.000000  ...   \n",
       "25%        9.000000   31.000000           244387.000000  ...   \n",
       "50%       13.000000   37.000000           264249.000000  ...   \n",
       "75%       16.000000   40.000000           284853.000000  ...   \n",
       "max       29.000000   58.000000           378884.000000  ...   \n",
       "\n",
       "       Disciplinary failure   Education         Son  Social drinker  \\\n",
       "count            734.000000  730.000000  734.000000      737.000000   \n",
       "mean               0.053134    1.295890    1.017711        0.567164   \n",
       "std                0.224453    0.676965    1.094928        0.495805   \n",
       "min                0.000000    1.000000    0.000000        0.000000   \n",
       "25%                0.000000    1.000000    0.000000        0.000000   \n",
       "50%                0.000000    1.000000    1.000000        1.000000   \n",
       "75%                0.000000    1.000000    2.000000        1.000000   \n",
       "max                1.000000    4.000000    4.000000        1.000000   \n",
       "\n",
       "       Social smoker         Pet      Weight      Height  Body mass index  \\\n",
       "count     736.000000  738.000000  739.000000  726.000000       709.000000   \n",
       "mean        0.073370    0.746612   79.063599  172.152893        26.684062   \n",
       "std         0.260919    1.319726   12.868630    6.081065         4.292819   \n",
       "min         0.000000    0.000000   56.000000  163.000000        19.000000   \n",
       "25%         0.000000    0.000000   69.000000  169.000000        24.000000   \n",
       "50%         0.000000    0.000000   83.000000  170.000000        25.000000   \n",
       "75%         0.000000    1.000000   89.000000  172.000000        31.000000   \n",
       "max         1.000000    8.000000  108.000000  196.000000        38.000000   \n",
       "\n",
       "       Absenteeism time in hours  \n",
       "count                 718.000000  \n",
       "mean                    6.977716  \n",
       "std                    13.476962  \n",
       "min                     0.000000  \n",
       "25%                     2.000000  \n",
       "50%                     3.000000  \n",
       "75%                     8.000000  \n",
       "max                   120.000000  \n",
       "\n",
       "[8 rows x 21 columns]"
      ]
     },
     "execution_count": 6,
     "metadata": {},
     "output_type": "execute_result"
    }
   ],
   "source": [
    "df.describe()"
   ]
  },
  {
   "cell_type": "code",
   "execution_count": 7,
   "metadata": {},
   "outputs": [
    {
     "name": "stdout",
     "output_type": "stream",
     "text": [
      "Rows =  740 Column =  21\n"
     ]
    }
   ],
   "source": [
    "rows,columns = df.shape\n",
    "print('Rows = ', rows, 'Column = ', columns)"
   ]
  },
  {
   "cell_type": "code",
   "execution_count": 8,
   "metadata": {},
   "outputs": [
    {
     "data": {
      "text/plain": [
       "ID                                   int64\n",
       "Reason for absence                 float64\n",
       "Month of absence                   float64\n",
       "Day of the week                      int64\n",
       "Seasons                              int64\n",
       "Transportation expense             float64\n",
       "Distance from Residence to Work    float64\n",
       "Service time                       float64\n",
       "Age                                float64\n",
       "Work load Average/day              float64\n",
       "Hit target                         float64\n",
       "Disciplinary failure               float64\n",
       "Education                          float64\n",
       "Son                                float64\n",
       "Social drinker                     float64\n",
       "Social smoker                      float64\n",
       "Pet                                float64\n",
       "Weight                             float64\n",
       "Height                             float64\n",
       "Body mass index                    float64\n",
       "Absenteeism time in hours          float64\n",
       "dtype: object"
      ]
     },
     "execution_count": 8,
     "metadata": {},
     "output_type": "execute_result"
    }
   ],
   "source": [
    "df.dtypes"
   ]
  },
  {
   "cell_type": "code",
   "execution_count": 9,
   "metadata": {},
   "outputs": [
    {
     "data": {
      "text/plain": [
       "ID                                 36\n",
       "Reason for absence                 28\n",
       "Month of absence                   13\n",
       "Day of the week                     5\n",
       "Seasons                             4\n",
       "Transportation expense             24\n",
       "Distance from Residence to Work    25\n",
       "Service time                       18\n",
       "Age                                22\n",
       "Work load Average/day              38\n",
       "Hit target                         13\n",
       "Disciplinary failure                2\n",
       "Education                           4\n",
       "Son                                 5\n",
       "Social drinker                      2\n",
       "Social smoker                       2\n",
       "Pet                                 6\n",
       "Weight                             26\n",
       "Height                             14\n",
       "Body mass index                    17\n",
       "Absenteeism time in hours          19\n",
       "dtype: int64"
      ]
     },
     "execution_count": 9,
     "metadata": {},
     "output_type": "execute_result"
    }
   ],
   "source": [
    "df.nunique()"
   ]
  },
  {
   "cell_type": "markdown",
   "metadata": {},
   "source": [
    "# Datatype conversion"
   ]
  },
  {
   "cell_type": "code",
   "execution_count": 10,
   "metadata": {},
   "outputs": [
    {
     "data": {
      "text/plain": [
       "Index(['ID', 'Reason for absence', 'Month of absence', 'Day of the week',\n",
       "       'Seasons', 'Transportation expense', 'Distance from Residence to Work',\n",
       "       'Service time', 'Age', 'Work load Average/day ', 'Hit target',\n",
       "       'Disciplinary failure', 'Education', 'Son', 'Social drinker',\n",
       "       'Social smoker', 'Pet', 'Weight', 'Height', 'Body mass index',\n",
       "       'Absenteeism time in hours'],\n",
       "      dtype='object')"
      ]
     },
     "execution_count": 10,
     "metadata": {},
     "output_type": "execute_result"
    }
   ],
   "source": [
    "df.columns"
   ]
  },
  {
   "cell_type": "code",
   "execution_count": 11,
   "metadata": {},
   "outputs": [],
   "source": [
    "continuous_var = ['Transportation expense', 'Distance from Residence to Work',\n",
    "       'Service time', 'Age', 'Work load Average/day ', 'Hit target','Weight', 'Height', 'Body mass index',\n",
    "       'Absenteeism time in hours']\n",
    "\n",
    "categorical_var = ['ID', 'Reason for absence', 'Month of absence', 'Day of the week',\n",
    "       'Seasons','Disciplinary failure', 'Education', 'Son', 'Social drinker',\n",
    "       'Social smoker', 'Pet']"
   ]
  },
  {
   "cell_type": "code",
   "execution_count": 12,
   "metadata": {},
   "outputs": [
    {
     "name": "stdout",
     "output_type": "stream",
     "text": [
      "Data type conersion\n",
      "ID : category\n",
      "Reason for absence : category\n",
      "Month of absence : category\n",
      "Day of the week : category\n",
      "Seasons : category\n",
      "Disciplinary failure : category\n",
      "Education : category\n",
      "Son : category\n",
      "Social drinker : category\n",
      "Social smoker : category\n",
      "Pet : category\n"
     ]
    }
   ],
   "source": [
    "print(\"Data type conersion\")\n",
    "for i in categorical_var:\n",
    "    df[i]=df[i].astype('category')\n",
    "    print(i,':',df[i].dtypes)\n"
   ]
  },
  {
   "cell_type": "code",
   "execution_count": 13,
   "metadata": {},
   "outputs": [
    {
     "name": "stdout",
     "output_type": "stream",
     "text": [
      " Unique Values of the categorical variables\n",
      "ID : [11, 36, 3, 7, 10, ..., 25, 12, 16, 4, 35]\n",
      "Length: 36\n",
      "Categories (36, int64): [11, 36, 3, 7, ..., 12, 16, 4, 35]\n",
      "Reason for absence : [26.0, 0.0, 23.0, 7.0, 22.0, ..., 4.0, 3.0, NaN, 2.0, 16.0]\n",
      "Length: 29\n",
      "Categories (28, float64): [26.0, 0.0, 23.0, 7.0, ..., 4.0, 3.0, 2.0, 16.0]\n",
      "Month of absence : [7.0, 8.0, 9.0, 10.0, NaN, ..., 3.0, 4.0, 5.0, 6.0, 0.0]\n",
      "Length: 14\n",
      "Categories (13, float64): [7.0, 8.0, 9.0, 10.0, ..., 4.0, 5.0, 6.0, 0.0]\n",
      "Day of the week : [3, 4, 5, 6, 2]\n",
      "Categories (5, int64): [3, 4, 5, 6, 2]\n",
      "Seasons : [1, 4, 2, 3]\n",
      "Categories (4, int64): [1, 4, 2, 3]\n",
      "Disciplinary failure : [0.0, 1.0, NaN]\n",
      "Categories (2, float64): [0.0, 1.0]\n",
      "Education : [1.0, 3.0, 2.0, NaN, 4.0]\n",
      "Categories (4, float64): [1.0, 3.0, 2.0, 4.0]\n",
      "Son : [2.0, 1.0, 0.0, 4.0, 3.0, NaN]\n",
      "Categories (5, float64): [2.0, 1.0, 0.0, 4.0, 3.0]\n",
      "Social drinker : [1.0, 0.0, NaN]\n",
      "Categories (2, float64): [1.0, 0.0]\n",
      "Social smoker : [0.0, 1.0, NaN]\n",
      "Categories (2, float64): [0.0, 1.0]\n",
      "Pet : [1.0, 0.0, 4.0, 2.0, 5.0, NaN, 8.0]\n",
      "Categories (6, float64): [1.0, 0.0, 4.0, 2.0, 5.0, 8.0]\n"
     ]
    }
   ],
   "source": [
    "print(\" Unique Values of the categorical variables\")\n",
    "for i in categorical_var:\n",
    "    print(i,\":\", df[i].unique())"
   ]
  },
  {
   "cell_type": "code",
   "execution_count": 14,
   "metadata": {},
   "outputs": [],
   "source": [
    "df['Reason for absence']= df['Reason for absence'].replace(0,np.nan)\n",
    "df['Month of absence'] = df['Month of absence'].replace(0,np.nan)"
   ]
  },
  {
   "cell_type": "code",
   "execution_count": 15,
   "metadata": {},
   "outputs": [
    {
     "name": "stdout",
     "output_type": "stream",
     "text": [
      "<class 'pandas.core.frame.DataFrame'>\n",
      "RangeIndex: 740 entries, 0 to 739\n",
      "Data columns (total 21 columns):\n",
      " #   Column                           Non-Null Count  Dtype   \n",
      "---  ------                           --------------  -----   \n",
      " 0   ID                               740 non-null    category\n",
      " 1   Reason for absence               694 non-null    category\n",
      " 2   Month of absence                 736 non-null    category\n",
      " 3   Day of the week                  740 non-null    category\n",
      " 4   Seasons                          740 non-null    category\n",
      " 5   Transportation expense           733 non-null    float64 \n",
      " 6   Distance from Residence to Work  737 non-null    float64 \n",
      " 7   Service time                     737 non-null    float64 \n",
      " 8   Age                              737 non-null    float64 \n",
      " 9   Work load Average/day            730 non-null    float64 \n",
      " 10  Hit target                       734 non-null    float64 \n",
      " 11  Disciplinary failure             734 non-null    category\n",
      " 12  Education                        730 non-null    category\n",
      " 13  Son                              734 non-null    category\n",
      " 14  Social drinker                   737 non-null    category\n",
      " 15  Social smoker                    736 non-null    category\n",
      " 16  Pet                              738 non-null    category\n",
      " 17  Weight                           739 non-null    float64 \n",
      " 18  Height                           726 non-null    float64 \n",
      " 19  Body mass index                  709 non-null    float64 \n",
      " 20  Absenteeism time in hours        718 non-null    float64 \n",
      "dtypes: category(11), float64(10)\n",
      "memory usage: 69.7 KB\n"
     ]
    }
   ],
   "source": [
    "df.info()"
   ]
  },
  {
   "cell_type": "markdown",
   "metadata": {},
   "source": [
    "# Missing value Analysis"
   ]
  },
  {
   "cell_type": "code",
   "execution_count": 16,
   "metadata": {},
   "outputs": [
    {
     "data": {
      "text/plain": [
       "ID                                  0\n",
       "Reason for absence                 46\n",
       "Month of absence                    4\n",
       "Day of the week                     0\n",
       "Seasons                             0\n",
       "Transportation expense              7\n",
       "Distance from Residence to Work     3\n",
       "Service time                        3\n",
       "Age                                 3\n",
       "Work load Average/day              10\n",
       "Hit target                          6\n",
       "Disciplinary failure                6\n",
       "Education                          10\n",
       "Son                                 6\n",
       "Social drinker                      3\n",
       "Social smoker                       4\n",
       "Pet                                 2\n",
       "Weight                              1\n",
       "Height                             14\n",
       "Body mass index                    31\n",
       "Absenteeism time in hours          22\n",
       "dtype: int64"
      ]
     },
     "execution_count": 16,
     "metadata": {},
     "output_type": "execute_result"
    }
   ],
   "source": [
    "df.isnull().sum()"
   ]
  },
  {
   "cell_type": "markdown",
   "metadata": {},
   "source": [
    "### Observation before imputation"
   ]
  },
  {
   "cell_type": "code",
   "execution_count": 17,
   "metadata": {},
   "outputs": [
    {
     "data": {
      "text/plain": [
       "<AxesSubplot:>"
      ]
     },
     "execution_count": 17,
     "metadata": {},
     "output_type": "execute_result"
    },
    {
     "data": {
      "image/png": "[encoded data removed]",
      "text/plain": [
       "<Figure size 432x288 with 2 Axes>"
      ]
     },
     "metadata": {
      "needs_background": "light"
     },
     "output_type": "display_data"
    }
   ],
   "source": [
    "sns.heatmap(df.isnull(), yticklabels = False, cmap = 'viridis')"
   ]
  },
  {
   "cell_type": "markdown",
   "metadata": {},
   "source": [
    "#### Checking for the best method for imputation"
   ]
  },
  {
   "cell_type": "code",
   "execution_count": 18,
   "metadata": {},
   "outputs": [
    {
     "name": "stdout",
     "output_type": "stream",
     "text": [
      "118.0\n"
     ]
    }
   ],
   "source": [
    "print(df['Transportation expense'][1])"
   ]
  },
  {
   "cell_type": "code",
   "execution_count": 19,
   "metadata": {},
   "outputs": [
    {
     "name": "stderr",
     "output_type": "stream",
     "text": [
      "<ipython-input-19-ec6ead275b3c>:1: SettingWithCopyWarning: \n",
      "A value is trying to be set on a copy of a slice from a DataFrame\n",
      "\n",
      "See the caveats in the documentation: https://pandas.pydata.org/pandas-docs/stable/user_guide/indexing.html#returning-a-view-versus-a-copy\n",
      "  df['Transportation expense'][1]=np.nan\n"
     ]
    }
   ],
   "source": [
    "df['Transportation expense'][1]=np.nan"
   ]
  },
  {
   "cell_type": "code",
   "execution_count": 20,
   "metadata": {},
   "outputs": [
    {
     "data": {
      "text/plain": [
       "nan"
      ]
     },
     "execution_count": 20,
     "metadata": {},
     "output_type": "execute_result"
    }
   ],
   "source": [
    "df['Transportation expense'][1]"
   ]
  },
  {
   "cell_type": "markdown",
   "metadata": {},
   "source": [
    "- Actual Value = 118\n",
    "- Mean value = 221.1762295081967\n",
    "- Median value = 225\n",
    "- Knn imputation = 118"
   ]
  },
  {
   "cell_type": "markdown",
   "metadata": {},
   "source": [
    "#### Mean"
   ]
  },
  {
   "cell_type": "code",
   "execution_count": 21,
   "metadata": {},
   "outputs": [],
   "source": [
    "#df['Transportation expense'] = df['Transportation expense'].fillna(df['Transportation expense'].mean())"
   ]
  },
  {
   "cell_type": "code",
   "execution_count": 22,
   "metadata": {},
   "outputs": [],
   "source": [
    "#print(df['Transportation expense'][1])"
   ]
  },
  {
   "cell_type": "markdown",
   "metadata": {},
   "source": [
    "#### Median"
   ]
  },
  {
   "cell_type": "code",
   "execution_count": 23,
   "metadata": {},
   "outputs": [],
   "source": [
    "#df['Transportation expense'] = df['Transportation expense'].fillna(df['Transportation expense'].median())"
   ]
  },
  {
   "cell_type": "code",
   "execution_count": 24,
   "metadata": {},
   "outputs": [],
   "source": [
    "#print(df['Transportation expense'][1])"
   ]
  },
  {
   "cell_type": "markdown",
   "metadata": {},
   "source": [
    "#### Knn - imputation  - Nearest one"
   ]
  },
  {
   "cell_type": "code",
   "execution_count": 25,
   "metadata": {},
   "outputs": [],
   "source": [
    "imputer = KNNImputer(n_neighbors= 2)\n",
    "df[:] = imputer.fit_transform(df)"
   ]
  },
  {
   "cell_type": "code",
   "execution_count": 26,
   "metadata": {},
   "outputs": [
    {
     "name": "stdout",
     "output_type": "stream",
     "text": [
      "118.0\n"
     ]
    }
   ],
   "source": [
    "print(df['Transportation expense'][1])"
   ]
  },
  {
   "cell_type": "code",
   "execution_count": 27,
   "metadata": {},
   "outputs": [
    {
     "data": {
      "text/plain": [
       "ID                                 0\n",
       "Reason for absence                 0\n",
       "Month of absence                   0\n",
       "Day of the week                    0\n",
       "Seasons                            0\n",
       "Transportation expense             0\n",
       "Distance from Residence to Work    0\n",
       "Service time                       0\n",
       "Age                                0\n",
       "Work load Average/day              0\n",
       "Hit target                         0\n",
       "Disciplinary failure               0\n",
       "Education                          0\n",
       "Son                                0\n",
       "Social drinker                     0\n",
       "Social smoker                      0\n",
       "Pet                                0\n",
       "Weight                             0\n",
       "Height                             0\n",
       "Body mass index                    0\n",
       "Absenteeism time in hours          0\n",
       "dtype: int64"
      ]
     },
     "execution_count": 27,
     "metadata": {},
     "output_type": "execute_result"
    }
   ],
   "source": [
    "df.isnull().sum()"
   ]
  },
  {
   "cell_type": "code",
   "execution_count": 28,
   "metadata": {},
   "outputs": [
    {
     "data": {
      "text/plain": [
       "<AxesSubplot:>"
      ]
     },
     "execution_count": 28,
     "metadata": {},
     "output_type": "execute_result"
    },
    {
     "data": {
      "image/png": "[encoded data removed]",
      "text/plain": [
       "<Figure size 432x288 with 2 Axes>"
      ]
     },
     "metadata": {
      "needs_background": "light"
     },
     "output_type": "display_data"
    }
   ],
   "source": [
    "sns.heatmap(df.isnull(), yticklabels = False, cmap ='viridis')"
   ]
  },
  {
   "cell_type": "code",
   "execution_count": 29,
   "metadata": {},
   "outputs": [
    {
     "name": "stdout",
     "output_type": "stream",
     "text": [
      " Unique Values of the categorical variables\n",
      "ID : [11. 36.  3.  7. 10. 20. 14.  1. 24.  6. 33. 18. 30.  2. 19. 27. 34.  5.\n",
      " 15. 29. 28. 13. 22. 17. 31. 23. 32.  9. 26. 21.  8. 25. 12. 16.  4. 35.]\n",
      "Reason for absence : [26.  16.5 23.   7.  22.  19.   1.  11.  14.  21.  10.  13.  28.  18.\n",
      " 25.  24.  25.5 20.5 24.5  6.  27.  17.   8.  12.  17.5  5.   9.  15.\n",
      " 11.5  4.   3.  21.5 18.5  2.   7.5 16.  14.5]\n",
      "Month of absence : [ 7.  8.  9. 10. 11. 12.  1.  2.  3.  4.  5.  6.]\n",
      "Day of the week : [3. 4. 5. 6. 2.]\n",
      "Seasons : [1. 4. 2. 3.]\n",
      "Disciplinary failure : [0. 1.]\n",
      "Education : [1. 3. 2. 4.]\n",
      "Son : [2.  1.  0.  4.  3.  1.5]\n",
      "Social drinker : [1. 0.]\n",
      "Social smoker : [0. 1.]\n",
      "Pet : [1. 0. 4. 2. 5. 8.]\n"
     ]
    }
   ],
   "source": [
    "print(\" Unique Values of the categorical variables\")\n",
    "for i in categorical_var:\n",
    "    print(i,\":\", df[i].unique())"
   ]
  },
  {
   "cell_type": "code",
   "execution_count": 30,
   "metadata": {},
   "outputs": [
    {
     "name": "stdout",
     "output_type": "stream",
     "text": [
      " Unique Values of the categorical variables after rounding off\n",
      "ID : [11.0, 36.0, 3.0, 7.0, 10.0, ..., 25.0, 12.0, 16.0, 4.0, 35.0]\n",
      "Length: 36\n",
      "Categories (36, float64): [11.0, 36.0, 3.0, 7.0, ..., 12.0, 16.0, 4.0, 35.0]\n",
      "Reason for absence : [26.0, 16.0, 23.0, 7.0, 22.0, ..., 9.0, 15.0, 4.0, 3.0, 2.0]\n",
      "Length: 28\n",
      "Categories (28, float64): [26.0, 16.0, 23.0, 7.0, ..., 15.0, 4.0, 3.0, 2.0]\n",
      "Month of absence : [7.0, 8.0, 9.0, 10.0, 11.0, ..., 2.0, 3.0, 4.0, 5.0, 6.0]\n",
      "Length: 12\n",
      "Categories (12, float64): [7.0, 8.0, 9.0, 10.0, ..., 3.0, 4.0, 5.0, 6.0]\n",
      "Day of the week : [3.0, 4.0, 5.0, 6.0, 2.0]\n",
      "Categories (5, float64): [3.0, 4.0, 5.0, 6.0, 2.0]\n",
      "Seasons : [1.0, 4.0, 2.0, 3.0]\n",
      "Categories (4, float64): [1.0, 4.0, 2.0, 3.0]\n",
      "Disciplinary failure : [0.0, 1.0]\n",
      "Categories (2, float64): [0.0, 1.0]\n",
      "Education : [1.0, 3.0, 2.0, 4.0]\n",
      "Categories (4, float64): [1.0, 3.0, 2.0, 4.0]\n",
      "Son : [2.0, 1.0, 0.0, 4.0, 3.0]\n",
      "Categories (5, float64): [2.0, 1.0, 0.0, 4.0, 3.0]\n",
      "Social drinker : [1.0, 0.0]\n",
      "Categories (2, float64): [1.0, 0.0]\n",
      "Social smoker : [0.0, 1.0]\n",
      "Categories (2, float64): [0.0, 1.0]\n",
      "Pet : [1.0, 0.0, 4.0, 2.0, 5.0, 8.0]\n",
      "Categories (6, float64): [1.0, 0.0, 4.0, 2.0, 5.0, 8.0]\n"
     ]
    }
   ],
   "source": [
    "print(\" Unique Values of the categorical variables after rounding off\")\n",
    "for i in categorical_var:\n",
    "    df[i] = df[i].round()\n",
    "    df[i] = df[i].astype('category')\n",
    "    print(i,\":\", df[i].unique())"
   ]
  },
  {
   "cell_type": "markdown",
   "metadata": {},
   "source": [
    "# Lets see how the data is distributed"
   ]
  },
  {
   "cell_type": "code",
   "execution_count": 31,
   "metadata": {},
   "outputs": [
    {
     "name": "stderr",
     "output_type": "stream",
     "text": [
      "C:\\Users\\Gourav Nandy\\Anaconda\\lib\\site-packages\\seaborn\\categorical.py:3704: UserWarning: The `factorplot` function has been renamed to `catplot`. The original name will be removed in a future release. Please update your code. Note that the default `kind` in `factorplot` (`'point'`) has changed `'strip'` in `catplot`.\n",
      "  warnings.warn(msg)\n",
      "C:\\Users\\Gourav Nandy\\Anaconda\\lib\\site-packages\\seaborn\\categorical.py:3710: UserWarning: The `size` parameter has been renamed to `height`; please update your code.\n",
      "  warnings.warn(msg, UserWarning)\n",
      "C:\\Users\\Gourav Nandy\\Anaconda\\lib\\site-packages\\seaborn\\categorical.py:3704: UserWarning: The `factorplot` function has been renamed to `catplot`. The original name will be removed in a future release. Please update your code. Note that the default `kind` in `factorplot` (`'point'`) has changed `'strip'` in `catplot`.\n",
      "  warnings.warn(msg)\n",
      "C:\\Users\\Gourav Nandy\\Anaconda\\lib\\site-packages\\seaborn\\categorical.py:3710: UserWarning: The `size` parameter has been renamed to `height`; please update your code.\n",
      "  warnings.warn(msg, UserWarning)\n",
      "C:\\Users\\Gourav Nandy\\Anaconda\\lib\\site-packages\\seaborn\\categorical.py:3704: UserWarning: The `factorplot` function has been renamed to `catplot`. The original name will be removed in a future release. Please update your code. Note that the default `kind` in `factorplot` (`'point'`) has changed `'strip'` in `catplot`.\n",
      "  warnings.warn(msg)\n",
      "C:\\Users\\Gourav Nandy\\Anaconda\\lib\\site-packages\\seaborn\\categorical.py:3710: UserWarning: The `size` parameter has been renamed to `height`; please update your code.\n",
      "  warnings.warn(msg, UserWarning)\n",
      "C:\\Users\\Gourav Nandy\\Anaconda\\lib\\site-packages\\seaborn\\categorical.py:3704: UserWarning: The `factorplot` function has been renamed to `catplot`. The original name will be removed in a future release. Please update your code. Note that the default `kind` in `factorplot` (`'point'`) has changed `'strip'` in `catplot`.\n",
      "  warnings.warn(msg)\n",
      "C:\\Users\\Gourav Nandy\\Anaconda\\lib\\site-packages\\seaborn\\categorical.py:3710: UserWarning: The `size` parameter has been renamed to `height`; please update your code.\n",
      "  warnings.warn(msg, UserWarning)\n"
     ]
    },
    {
     "data": {
      "text/plain": [
       "<seaborn.axisgrid.FacetGrid at 0xa04ffd0>"
      ]
     },
     "execution_count": 31,
     "metadata": {},
     "output_type": "execute_result"
    },
    {
     "data": {
      "image/png": "[encoded data removed]",
      "text/plain": [
       "<Figure size 864x432 with 1 Axes>"
      ]
     },
     "metadata": {},
     "output_type": "display_data"
    },
    {
     "data": {
      "image/png": "[encoded data removed]",
      "text/plain": [
       "<Figure size 864x432 with 1 Axes>"
      ]
     },
     "metadata": {},
     "output_type": "display_data"
    },
    {
     "data": {
      "image/png": "[encoded data removed]",
      "text/plain": [
       "<Figure size 864x432 with 1 Axes>"
      ]
     },
     "metadata": {},
     "output_type": "display_data"
    },
    {
     "data": {
      "image/png": "[encoded data removed]",
      "text/plain": [
       "<Figure size 864x432 with 1 Axes>"
      ]
     },
     "metadata": {},
     "output_type": "display_data"
    }
   ],
   "source": [
    "sns.set_style('whitegrid')\n",
    "sns.factorplot(data=df, x='Reason for absence', kind= 'count',size=6,aspect=2)\n",
    "sns.factorplot(data=df, x='Seasons', kind= 'count',size=6,aspect=2)\n",
    "sns.factorplot(data=df, x='Education', kind= 'count',size=6,aspect=2)\n",
    "sns.factorplot(data=df, x='Social drinker', kind= 'count',size=6,aspect=2)"
   ]
  },
  {
   "cell_type": "markdown",
   "metadata": {},
   "source": [
    " From here we interpret that \n",
    " \n",
    " - The employee have have given 23, 28, 27, 13 reason the most \n",
    " - Employee are absent most in the 2nd Season \n",
    " - Employee in High school are absent the most as compared to others. \n",
    " - Employee with a habit of Social drinking are likely to be more absent"
   ]
  },
  {
   "cell_type": "code",
   "execution_count": null,
   "metadata": {},
   "outputs": [],
   "source": []
  },
  {
   "cell_type": "markdown",
   "metadata": {},
   "source": [
    "# Outlier Analysis"
   ]
  },
  {
   "cell_type": "code",
   "execution_count": 32,
   "metadata": {},
   "outputs": [
    {
     "data": {
      "text/plain": [
       "<AxesSubplot:>"
      ]
     },
     "execution_count": 32,
     "metadata": {},
     "output_type": "execute_result"
    },
    {
     "data": {
      "image/png": "[encoded data removed]",
      "text/plain": [
       "<Figure size 432x288 with 1 Axes>"
      ]
     },
     "metadata": {},
     "output_type": "display_data"
    }
   ],
   "source": [
    "sns.boxplot(data = df[['Transportation expense','Service time']], width = 0.5)"
   ]
  },
  {
   "cell_type": "code",
   "execution_count": 33,
   "metadata": {},
   "outputs": [
    {
     "data": {
      "text/plain": [
       "<AxesSubplot:>"
      ]
     },
     "execution_count": 33,
     "metadata": {},
     "output_type": "execute_result"
    },
    {
     "data": {
      "image/png": "[encoded data removed]",
      "text/plain": [
       "<Figure size 432x288 with 1 Axes>"
      ]
     },
     "metadata": {},
     "output_type": "display_data"
    }
   ],
   "source": [
    "sns.boxplot(data = df[['Distance from Residence to Work',\n",
    "       'Age',]], width = 0.5 )"
   ]
  },
  {
   "cell_type": "code",
   "execution_count": 34,
   "metadata": {},
   "outputs": [
    {
     "data": {
      "text/plain": [
       "<AxesSubplot:>"
      ]
     },
     "execution_count": 34,
     "metadata": {},
     "output_type": "execute_result"
    },
    {
     "data": {
      "image/png": "[encoded data removed]",
      "text/plain": [
       "<Figure size 432x288 with 1 Axes>"
      ]
     },
     "metadata": {},
     "output_type": "display_data"
    }
   ],
   "source": [
    "sns.boxplot(data = df[['Work load Average/day ', 'Hit target']], width = 0.5 )"
   ]
  },
  {
   "cell_type": "code",
   "execution_count": 35,
   "metadata": {},
   "outputs": [
    {
     "data": {
      "text/plain": [
       "<AxesSubplot:>"
      ]
     },
     "execution_count": 35,
     "metadata": {},
     "output_type": "execute_result"
    },
    {
     "data": {
      "image/png": "[encoded data removed]",
      "text/plain": [
       "<Figure size 432x288 with 1 Axes>"
      ]
     },
     "metadata": {},
     "output_type": "display_data"
    }
   ],
   "source": [
    "sns.boxplot(data = df[['Weight', 'Height', 'Body mass index']], width = 0.5)"
   ]
  },
  {
   "cell_type": "code",
   "execution_count": 36,
   "metadata": {},
   "outputs": [
    {
     "data": {
      "text/plain": [
       "<AxesSubplot:>"
      ]
     },
     "execution_count": 36,
     "metadata": {},
     "output_type": "execute_result"
    },
    {
     "data": {
      "image/png": "[encoded data removed]",
      "text/plain": [
       "<Figure size 432x288 with 1 Axes>"
      ]
     },
     "metadata": {},
     "output_type": "display_data"
    }
   ],
   "source": [
    "sns.boxplot(data = df[['Absenteeism time in hours', 'Hit target']], width = 0.5 )"
   ]
  },
  {
   "cell_type": "markdown",
   "metadata": {},
   "source": [
    "### finding the outlier values and filling them with na"
   ]
  },
  {
   "cell_type": "code",
   "execution_count": 37,
   "metadata": {},
   "outputs": [],
   "source": [
    "for i in continuous_var:\n",
    "    q75 = np.percentile(df[i],75)\n",
    "    q25 = np.percentile(df[i],25)\n",
    "    iqr = q75 - q25\n",
    "    min_val = q25 - (iqr*1.5)\n",
    "    max_val = q75 + (iqr*1.5)\n",
    "    df.loc[df[i]< min_val,i] = np.nan\n",
    "    df.loc[df[i]> max_val,i] = np.nan\n"
   ]
  },
  {
   "cell_type": "code",
   "execution_count": 38,
   "metadata": {},
   "outputs": [
    {
     "data": {
      "text/plain": [
       "ID                                   0\n",
       "Reason for absence                   0\n",
       "Month of absence                     0\n",
       "Day of the week                      0\n",
       "Seasons                              0\n",
       "Transportation expense               3\n",
       "Distance from Residence to Work      0\n",
       "Service time                         5\n",
       "Age                                  8\n",
       "Work load Average/day               31\n",
       "Hit target                          19\n",
       "Disciplinary failure                 0\n",
       "Education                            0\n",
       "Son                                  0\n",
       "Social drinker                       0\n",
       "Social smoker                        0\n",
       "Pet                                  0\n",
       "Weight                               0\n",
       "Height                             119\n",
       "Body mass index                      0\n",
       "Absenteeism time in hours           46\n",
       "dtype: int64"
      ]
     },
     "execution_count": 38,
     "metadata": {},
     "output_type": "execute_result"
    }
   ],
   "source": [
    "df.isnull().sum()"
   ]
  },
  {
   "cell_type": "code",
   "execution_count": 39,
   "metadata": {},
   "outputs": [
    {
     "data": {
      "text/plain": [
       "ID                                 0\n",
       "Reason for absence                 0\n",
       "Month of absence                   0\n",
       "Day of the week                    0\n",
       "Seasons                            0\n",
       "Transportation expense             0\n",
       "Distance from Residence to Work    0\n",
       "Service time                       0\n",
       "Age                                0\n",
       "Work load Average/day              0\n",
       "Hit target                         0\n",
       "Disciplinary failure               0\n",
       "Education                          0\n",
       "Son                                0\n",
       "Social drinker                     0\n",
       "Social smoker                      0\n",
       "Pet                                0\n",
       "Weight                             0\n",
       "Height                             0\n",
       "Body mass index                    0\n",
       "Absenteeism time in hours          0\n",
       "dtype: int64"
      ]
     },
     "execution_count": 39,
     "metadata": {},
     "output_type": "execute_result"
    }
   ],
   "source": [
    "imputer = KNNImputer(n_neighbors= 2)\n",
    "df[:] = imputer.fit_transform(df)\n",
    "df.isnull().sum()"
   ]
  },
  {
   "cell_type": "code",
   "execution_count": 40,
   "metadata": {},
   "outputs": [
    {
     "data": {
      "text/plain": [
       "<AxesSubplot:>"
      ]
     },
     "execution_count": 40,
     "metadata": {},
     "output_type": "execute_result"
    },
    {
     "data": {
      "image/png": "[encoded data removed]",
      "text/plain": [
       "<Figure size 432x288 with 1 Axes>"
      ]
     },
     "metadata": {},
     "output_type": "display_data"
    }
   ],
   "source": [
    "sns.boxplot(data = df[['Work load Average/day ']], width = 0.5)"
   ]
  },
  {
   "cell_type": "code",
   "execution_count": 41,
   "metadata": {},
   "outputs": [
    {
     "data": {
      "image/png": "[encoded data removed]",
      "text/plain": [
       "<Figure size 648x648 with 1 Axes>"
      ]
     },
     "metadata": {},
     "output_type": "display_data"
    }
   ],
   "source": [
    "sns.boxplot(data=df[['Absenteeism time in hours','Height','Hit target','Age','Service time']])\n",
    "plt.gcf().set_size_inches(9,9)"
   ]
  },
  {
   "cell_type": "code",
   "execution_count": null,
   "metadata": {},
   "outputs": [],
   "source": []
  },
  {
   "cell_type": "markdown",
   "metadata": {},
   "source": [
    "# Feature Selection "
   ]
  },
  {
   "cell_type": "markdown",
   "metadata": {},
   "source": [
    "#### Multicolinearity"
   ]
  },
  {
   "cell_type": "code",
   "execution_count": 42,
   "metadata": {},
   "outputs": [],
   "source": [
    "X = df.drop([\"Absenteeism time in hours\"] , axis = 1)\n",
    "y = df[\"Absenteeism time in hours\"]"
   ]
  },
  {
   "cell_type": "code",
   "execution_count": 43,
   "metadata": {},
   "outputs": [],
   "source": [
    "from sklearn.model_selection import train_test_split\n",
    "X_train, X_test, y_train, y_test = train_test_split(X,y,test_size=0.3, random_state=0)"
   ]
  },
  {
   "cell_type": "code",
   "execution_count": 44,
   "metadata": {},
   "outputs": [
    {
     "data": {
      "text/plain": [
       "((518, 20), (222, 20))"
      ]
     },
     "execution_count": 44,
     "metadata": {},
     "output_type": "execute_result"
    }
   ],
   "source": [
    "X_train.shape, X_test.shape"
   ]
  },
  {
   "cell_type": "code",
   "execution_count": 45,
   "metadata": {},
   "outputs": [
    {
     "data": {
      "image/png": "[encoded data removed]",
      "text/plain": [
       "<Figure size 1440x864 with 2 Axes>"
      ]
     },
     "metadata": {},
     "output_type": "display_data"
    }
   ],
   "source": [
    "plt.figure(figsize=(20,12))\n",
    "corr = X_train.corr()\n",
    "sns.heatmap(corr, annot = True, cmap=plt.cm.CMRmap_r)\n",
    "plt.show()"
   ]
  },
  {
   "cell_type": "code",
   "execution_count": 46,
   "metadata": {},
   "outputs": [],
   "source": [
    "def correlation(dataset, threshold):\n",
    "    col_corr = set()  # Set of all the names of correlated columns\n",
    "    corr_matrix = dataset.corr()\n",
    "    for i in range(len(corr_matrix.columns)):\n",
    "        for j in range(i):\n",
    "            if np.abs(corr_matrix.iloc[i, j] > threshold): # we are interested in absolute coeff value\n",
    "                colname = corr_matrix.columns[i]  # getting the name of column\n",
    "                col_corr.add(colname)\n",
    "    return col_corr"
   ]
  },
  {
   "cell_type": "code",
   "execution_count": 47,
   "metadata": {},
   "outputs": [
    {
     "data": {
      "text/plain": [
       "1"
      ]
     },
     "execution_count": 47,
     "metadata": {},
     "output_type": "execute_result"
    }
   ],
   "source": [
    "corr_features = correlation(X_train, 0.7)\n",
    "len(set(corr_features))"
   ]
  },
  {
   "cell_type": "code",
   "execution_count": 48,
   "metadata": {},
   "outputs": [
    {
     "data": {
      "text/plain": [
       "{'Body mass index'}"
      ]
     },
     "execution_count": 48,
     "metadata": {},
     "output_type": "execute_result"
    }
   ],
   "source": [
    "corr_features"
   ]
  },
  {
   "cell_type": "code",
   "execution_count": 49,
   "metadata": {},
   "outputs": [],
   "source": [
    "df = df.drop(corr_features,axis=1)"
   ]
  },
  {
   "cell_type": "code",
   "execution_count": 50,
   "metadata": {},
   "outputs": [
    {
     "data": {
      "text/html": [
       "<div>\n",
       "<style scoped>\n",
       "    .dataframe tbody tr th:only-of-type {\n",
       "        vertical-align: middle;\n",
       "    }\n",
       "\n",
       "    .dataframe tbody tr th {\n",
       "        vertical-align: top;\n",
       "    }\n",
       "\n",
       "    .dataframe thead th {\n",
       "        text-align: right;\n",
       "    }\n",
       "</style>\n",
       "<table border=\"1\" class=\"dataframe\">\n",
       "  <thead>\n",
       "    <tr style=\"text-align: right;\">\n",
       "      <th></th>\n",
       "      <th>ID</th>\n",
       "      <th>Reason for absence</th>\n",
       "      <th>Month of absence</th>\n",
       "      <th>Day of the week</th>\n",
       "      <th>Seasons</th>\n",
       "      <th>Transportation expense</th>\n",
       "      <th>Distance from Residence to Work</th>\n",
       "      <th>Service time</th>\n",
       "      <th>Age</th>\n",
       "      <th>Work load Average/day</th>\n",
       "      <th>Hit target</th>\n",
       "      <th>Disciplinary failure</th>\n",
       "      <th>Education</th>\n",
       "      <th>Son</th>\n",
       "      <th>Social drinker</th>\n",
       "      <th>Social smoker</th>\n",
       "      <th>Pet</th>\n",
       "      <th>Weight</th>\n",
       "      <th>Height</th>\n",
       "      <th>Absenteeism time in hours</th>\n",
       "    </tr>\n",
       "  </thead>\n",
       "  <tbody>\n",
       "    <tr>\n",
       "      <th>0</th>\n",
       "      <td>11.0</td>\n",
       "      <td>26.0</td>\n",
       "      <td>7.0</td>\n",
       "      <td>3.0</td>\n",
       "      <td>1.0</td>\n",
       "      <td>289.0</td>\n",
       "      <td>36.0</td>\n",
       "      <td>13.0</td>\n",
       "      <td>33.0</td>\n",
       "      <td>239554.0</td>\n",
       "      <td>97.0</td>\n",
       "      <td>0.0</td>\n",
       "      <td>1.0</td>\n",
       "      <td>2.0</td>\n",
       "      <td>1.0</td>\n",
       "      <td>0.0</td>\n",
       "      <td>1.0</td>\n",
       "      <td>90.0</td>\n",
       "      <td>172.0</td>\n",
       "      <td>4.0</td>\n",
       "    </tr>\n",
       "    <tr>\n",
       "      <th>1</th>\n",
       "      <td>36.0</td>\n",
       "      <td>16.0</td>\n",
       "      <td>7.0</td>\n",
       "      <td>3.0</td>\n",
       "      <td>1.0</td>\n",
       "      <td>118.0</td>\n",
       "      <td>13.0</td>\n",
       "      <td>18.0</td>\n",
       "      <td>50.0</td>\n",
       "      <td>239554.0</td>\n",
       "      <td>97.0</td>\n",
       "      <td>1.0</td>\n",
       "      <td>1.0</td>\n",
       "      <td>1.0</td>\n",
       "      <td>1.0</td>\n",
       "      <td>0.0</td>\n",
       "      <td>0.0</td>\n",
       "      <td>98.0</td>\n",
       "      <td>170.0</td>\n",
       "      <td>0.0</td>\n",
       "    </tr>\n",
       "    <tr>\n",
       "      <th>2</th>\n",
       "      <td>3.0</td>\n",
       "      <td>23.0</td>\n",
       "      <td>7.0</td>\n",
       "      <td>4.0</td>\n",
       "      <td>1.0</td>\n",
       "      <td>179.0</td>\n",
       "      <td>51.0</td>\n",
       "      <td>18.0</td>\n",
       "      <td>38.0</td>\n",
       "      <td>239554.0</td>\n",
       "      <td>97.0</td>\n",
       "      <td>0.0</td>\n",
       "      <td>1.0</td>\n",
       "      <td>0.0</td>\n",
       "      <td>1.0</td>\n",
       "      <td>0.0</td>\n",
       "      <td>0.0</td>\n",
       "      <td>89.0</td>\n",
       "      <td>170.0</td>\n",
       "      <td>2.0</td>\n",
       "    </tr>\n",
       "    <tr>\n",
       "      <th>3</th>\n",
       "      <td>7.0</td>\n",
       "      <td>7.0</td>\n",
       "      <td>7.0</td>\n",
       "      <td>5.0</td>\n",
       "      <td>1.0</td>\n",
       "      <td>279.0</td>\n",
       "      <td>5.0</td>\n",
       "      <td>14.0</td>\n",
       "      <td>39.0</td>\n",
       "      <td>239554.0</td>\n",
       "      <td>97.0</td>\n",
       "      <td>0.0</td>\n",
       "      <td>1.0</td>\n",
       "      <td>2.0</td>\n",
       "      <td>1.0</td>\n",
       "      <td>1.0</td>\n",
       "      <td>0.0</td>\n",
       "      <td>68.0</td>\n",
       "      <td>168.0</td>\n",
       "      <td>4.0</td>\n",
       "    </tr>\n",
       "    <tr>\n",
       "      <th>4</th>\n",
       "      <td>11.0</td>\n",
       "      <td>23.0</td>\n",
       "      <td>7.0</td>\n",
       "      <td>5.0</td>\n",
       "      <td>1.0</td>\n",
       "      <td>289.0</td>\n",
       "      <td>36.0</td>\n",
       "      <td>13.0</td>\n",
       "      <td>33.0</td>\n",
       "      <td>239554.0</td>\n",
       "      <td>97.0</td>\n",
       "      <td>0.0</td>\n",
       "      <td>1.0</td>\n",
       "      <td>2.0</td>\n",
       "      <td>1.0</td>\n",
       "      <td>0.0</td>\n",
       "      <td>1.0</td>\n",
       "      <td>90.0</td>\n",
       "      <td>172.0</td>\n",
       "      <td>2.0</td>\n",
       "    </tr>\n",
       "  </tbody>\n",
       "</table>\n",
       "</div>"
      ],
      "text/plain": [
       "     ID  Reason for absence  Month of absence  Day of the week  Seasons  \\\n",
       "0  11.0                26.0               7.0              3.0      1.0   \n",
       "1  36.0                16.0               7.0              3.0      1.0   \n",
       "2   3.0                23.0               7.0              4.0      1.0   \n",
       "3   7.0                 7.0               7.0              5.0      1.0   \n",
       "4  11.0                23.0               7.0              5.0      1.0   \n",
       "\n",
       "   Transportation expense  Distance from Residence to Work  Service time  \\\n",
       "0                   289.0                             36.0          13.0   \n",
       "1                   118.0                             13.0          18.0   \n",
       "2                   179.0                             51.0          18.0   \n",
       "3                   279.0                              5.0          14.0   \n",
       "4                   289.0                             36.0          13.0   \n",
       "\n",
       "    Age  Work load Average/day   Hit target  Disciplinary failure  Education  \\\n",
       "0  33.0                239554.0        97.0                   0.0        1.0   \n",
       "1  50.0                239554.0        97.0                   1.0        1.0   \n",
       "2  38.0                239554.0        97.0                   0.0        1.0   \n",
       "3  39.0                239554.0        97.0                   0.0        1.0   \n",
       "4  33.0                239554.0        97.0                   0.0        1.0   \n",
       "\n",
       "   Son  Social drinker  Social smoker  Pet  Weight  Height  \\\n",
       "0  2.0             1.0            0.0  1.0    90.0   172.0   \n",
       "1  1.0             1.0            0.0  0.0    98.0   170.0   \n",
       "2  0.0             1.0            0.0  0.0    89.0   170.0   \n",
       "3  2.0             1.0            1.0  0.0    68.0   168.0   \n",
       "4  2.0             1.0            0.0  1.0    90.0   172.0   \n",
       "\n",
       "   Absenteeism time in hours  \n",
       "0                        4.0  \n",
       "1                        0.0  \n",
       "2                        2.0  \n",
       "3                        4.0  \n",
       "4                        2.0  "
      ]
     },
     "execution_count": 50,
     "metadata": {},
     "output_type": "execute_result"
    }
   ],
   "source": [
    "df.head()"
   ]
  },
  {
   "cell_type": "markdown",
   "metadata": {},
   "source": [
    "# Feature Scaling"
   ]
  },
  {
   "cell_type": "code",
   "execution_count": 51,
   "metadata": {},
   "outputs": [],
   "source": [
    "continuous_var.remove('Body mass index')"
   ]
  },
  {
   "cell_type": "code",
   "execution_count": 52,
   "metadata": {},
   "outputs": [],
   "source": [
    "for i in continuous_var:\n",
    "    if i == 'Absenteeism time in hours':\n",
    "        continue\n",
    "    else:\n",
    "        df[i] = (df[i]-df[i].mean())/df[i].std()"
   ]
  },
  {
   "cell_type": "code",
   "execution_count": 53,
   "metadata": {},
   "outputs": [
    {
     "data": {
      "text/html": [
       "<div>\n",
       "<style scoped>\n",
       "    .dataframe tbody tr th:only-of-type {\n",
       "        vertical-align: middle;\n",
       "    }\n",
       "\n",
       "    .dataframe tbody tr th {\n",
       "        vertical-align: top;\n",
       "    }\n",
       "\n",
       "    .dataframe thead th {\n",
       "        text-align: right;\n",
       "    }\n",
       "</style>\n",
       "<table border=\"1\" class=\"dataframe\">\n",
       "  <thead>\n",
       "    <tr style=\"text-align: right;\">\n",
       "      <th></th>\n",
       "      <th>ID</th>\n",
       "      <th>Reason for absence</th>\n",
       "      <th>Month of absence</th>\n",
       "      <th>Day of the week</th>\n",
       "      <th>Seasons</th>\n",
       "      <th>Transportation expense</th>\n",
       "      <th>Distance from Residence to Work</th>\n",
       "      <th>Service time</th>\n",
       "      <th>Age</th>\n",
       "      <th>Work load Average/day</th>\n",
       "      <th>Hit target</th>\n",
       "      <th>Disciplinary failure</th>\n",
       "      <th>Education</th>\n",
       "      <th>Son</th>\n",
       "      <th>Social drinker</th>\n",
       "      <th>Social smoker</th>\n",
       "      <th>Pet</th>\n",
       "      <th>Weight</th>\n",
       "      <th>Height</th>\n",
       "      <th>Absenteeism time in hours</th>\n",
       "    </tr>\n",
       "  </thead>\n",
       "  <tbody>\n",
       "    <tr>\n",
       "      <th>0</th>\n",
       "      <td>11.0</td>\n",
       "      <td>26.0</td>\n",
       "      <td>7.0</td>\n",
       "      <td>3.0</td>\n",
       "      <td>1.0</td>\n",
       "      <td>1.033198</td>\n",
       "      <td>0.427110</td>\n",
       "      <td>0.132875</td>\n",
       "      <td>-0.520545</td>\n",
       "      <td>-0.854639</td>\n",
       "      <td>0.681531</td>\n",
       "      <td>0.0</td>\n",
       "      <td>1.0</td>\n",
       "      <td>2.0</td>\n",
       "      <td>1.0</td>\n",
       "      <td>0.0</td>\n",
       "      <td>1.0</td>\n",
       "      <td>0.851053</td>\n",
       "      <td>1.002144</td>\n",
       "      <td>4.0</td>\n",
       "    </tr>\n",
       "    <tr>\n",
       "      <th>1</th>\n",
       "      <td>36.0</td>\n",
       "      <td>16.0</td>\n",
       "      <td>7.0</td>\n",
       "      <td>3.0</td>\n",
       "      <td>1.0</td>\n",
       "      <td>-1.550486</td>\n",
       "      <td>-1.121881</td>\n",
       "      <td>1.331988</td>\n",
       "      <td>2.266624</td>\n",
       "      <td>-0.854639</td>\n",
       "      <td>0.681531</td>\n",
       "      <td>1.0</td>\n",
       "      <td>1.0</td>\n",
       "      <td>1.0</td>\n",
       "      <td>1.0</td>\n",
       "      <td>0.0</td>\n",
       "      <td>0.0</td>\n",
       "      <td>1.471907</td>\n",
       "      <td>-0.091238</td>\n",
       "      <td>0.0</td>\n",
       "    </tr>\n",
       "    <tr>\n",
       "      <th>2</th>\n",
       "      <td>3.0</td>\n",
       "      <td>23.0</td>\n",
       "      <td>7.0</td>\n",
       "      <td>4.0</td>\n",
       "      <td>1.0</td>\n",
       "      <td>-0.628821</td>\n",
       "      <td>1.437322</td>\n",
       "      <td>1.331988</td>\n",
       "      <td>0.299211</td>\n",
       "      <td>-0.854639</td>\n",
       "      <td>0.681531</td>\n",
       "      <td>0.0</td>\n",
       "      <td>1.0</td>\n",
       "      <td>0.0</td>\n",
       "      <td>1.0</td>\n",
       "      <td>0.0</td>\n",
       "      <td>0.0</td>\n",
       "      <td>0.773446</td>\n",
       "      <td>-0.091238</td>\n",
       "      <td>2.0</td>\n",
       "    </tr>\n",
       "    <tr>\n",
       "      <th>3</th>\n",
       "      <td>7.0</td>\n",
       "      <td>7.0</td>\n",
       "      <td>7.0</td>\n",
       "      <td>5.0</td>\n",
       "      <td>1.0</td>\n",
       "      <td>0.882105</td>\n",
       "      <td>-1.660660</td>\n",
       "      <td>0.372697</td>\n",
       "      <td>0.463162</td>\n",
       "      <td>-0.854639</td>\n",
       "      <td>0.681531</td>\n",
       "      <td>0.0</td>\n",
       "      <td>1.0</td>\n",
       "      <td>2.0</td>\n",
       "      <td>1.0</td>\n",
       "      <td>1.0</td>\n",
       "      <td>0.0</td>\n",
       "      <td>-0.856296</td>\n",
       "      <td>-1.184620</td>\n",
       "      <td>4.0</td>\n",
       "    </tr>\n",
       "    <tr>\n",
       "      <th>4</th>\n",
       "      <td>11.0</td>\n",
       "      <td>23.0</td>\n",
       "      <td>7.0</td>\n",
       "      <td>5.0</td>\n",
       "      <td>1.0</td>\n",
       "      <td>1.033198</td>\n",
       "      <td>0.427110</td>\n",
       "      <td>0.132875</td>\n",
       "      <td>-0.520545</td>\n",
       "      <td>-0.854639</td>\n",
       "      <td>0.681531</td>\n",
       "      <td>0.0</td>\n",
       "      <td>1.0</td>\n",
       "      <td>2.0</td>\n",
       "      <td>1.0</td>\n",
       "      <td>0.0</td>\n",
       "      <td>1.0</td>\n",
       "      <td>0.851053</td>\n",
       "      <td>1.002144</td>\n",
       "      <td>2.0</td>\n",
       "    </tr>\n",
       "  </tbody>\n",
       "</table>\n",
       "</div>"
      ],
      "text/plain": [
       "     ID  Reason for absence  Month of absence  Day of the week  Seasons  \\\n",
       "0  11.0                26.0               7.0              3.0      1.0   \n",
       "1  36.0                16.0               7.0              3.0      1.0   \n",
       "2   3.0                23.0               7.0              4.0      1.0   \n",
       "3   7.0                 7.0               7.0              5.0      1.0   \n",
       "4  11.0                23.0               7.0              5.0      1.0   \n",
       "\n",
       "   Transportation expense  Distance from Residence to Work  Service time  \\\n",
       "0                1.033198                         0.427110      0.132875   \n",
       "1               -1.550486                        -1.121881      1.331988   \n",
       "2               -0.628821                         1.437322      1.331988   \n",
       "3                0.882105                        -1.660660      0.372697   \n",
       "4                1.033198                         0.427110      0.132875   \n",
       "\n",
       "        Age  Work load Average/day   Hit target  Disciplinary failure  \\\n",
       "0 -0.520545               -0.854639    0.681531                   0.0   \n",
       "1  2.266624               -0.854639    0.681531                   1.0   \n",
       "2  0.299211               -0.854639    0.681531                   0.0   \n",
       "3  0.463162               -0.854639    0.681531                   0.0   \n",
       "4 -0.520545               -0.854639    0.681531                   0.0   \n",
       "\n",
       "   Education  Son  Social drinker  Social smoker  Pet    Weight    Height  \\\n",
       "0        1.0  2.0             1.0            0.0  1.0  0.851053  1.002144   \n",
       "1        1.0  1.0             1.0            0.0  0.0  1.471907 -0.091238   \n",
       "2        1.0  0.0             1.0            0.0  0.0  0.773446 -0.091238   \n",
       "3        1.0  2.0             1.0            1.0  0.0 -0.856296 -1.184620   \n",
       "4        1.0  2.0             1.0            0.0  1.0  0.851053  1.002144   \n",
       "\n",
       "   Absenteeism time in hours  \n",
       "0                        4.0  \n",
       "1                        0.0  \n",
       "2                        2.0  \n",
       "3                        4.0  \n",
       "4                        2.0  "
      ]
     },
     "execution_count": 53,
     "metadata": {},
     "output_type": "execute_result"
    }
   ],
   "source": [
    "df.head()"
   ]
  },
  {
   "cell_type": "markdown",
   "metadata": {},
   "source": [
    "# Feature Engineering"
   ]
  },
  {
   "cell_type": "code",
   "execution_count": 54,
   "metadata": {},
   "outputs": [],
   "source": [
    "df = pd.get_dummies(data=df,columns=categorical_var)"
   ]
  },
  {
   "cell_type": "code",
   "execution_count": 55,
   "metadata": {},
   "outputs": [
    {
     "data": {
      "text/html": [
       "<div>\n",
       "<style scoped>\n",
       "    .dataframe tbody tr th:only-of-type {\n",
       "        vertical-align: middle;\n",
       "    }\n",
       "\n",
       "    .dataframe tbody tr th {\n",
       "        vertical-align: top;\n",
       "    }\n",
       "\n",
       "    .dataframe thead th {\n",
       "        text-align: right;\n",
       "    }\n",
       "</style>\n",
       "<table border=\"1\" class=\"dataframe\">\n",
       "  <thead>\n",
       "    <tr style=\"text-align: right;\">\n",
       "      <th></th>\n",
       "      <th>Transportation expense</th>\n",
       "      <th>Distance from Residence to Work</th>\n",
       "      <th>Service time</th>\n",
       "      <th>Age</th>\n",
       "      <th>Work load Average/day</th>\n",
       "      <th>Hit target</th>\n",
       "      <th>Weight</th>\n",
       "      <th>Height</th>\n",
       "      <th>Absenteeism time in hours</th>\n",
       "      <th>ID_1.0</th>\n",
       "      <th>...</th>\n",
       "      <th>Social drinker_0.0</th>\n",
       "      <th>Social drinker_1.0</th>\n",
       "      <th>Social smoker_0.0</th>\n",
       "      <th>Social smoker_1.0</th>\n",
       "      <th>Pet_0.0</th>\n",
       "      <th>Pet_1.0</th>\n",
       "      <th>Pet_2.0</th>\n",
       "      <th>Pet_4.0</th>\n",
       "      <th>Pet_5.0</th>\n",
       "      <th>Pet_8.0</th>\n",
       "    </tr>\n",
       "  </thead>\n",
       "  <tbody>\n",
       "    <tr>\n",
       "      <th>0</th>\n",
       "      <td>1.033198</td>\n",
       "      <td>0.427110</td>\n",
       "      <td>0.132875</td>\n",
       "      <td>-0.520545</td>\n",
       "      <td>-0.854639</td>\n",
       "      <td>0.681531</td>\n",
       "      <td>0.851053</td>\n",
       "      <td>1.002144</td>\n",
       "      <td>4.0</td>\n",
       "      <td>0</td>\n",
       "      <td>...</td>\n",
       "      <td>0</td>\n",
       "      <td>1</td>\n",
       "      <td>1</td>\n",
       "      <td>0</td>\n",
       "      <td>0</td>\n",
       "      <td>1</td>\n",
       "      <td>0</td>\n",
       "      <td>0</td>\n",
       "      <td>0</td>\n",
       "      <td>0</td>\n",
       "    </tr>\n",
       "    <tr>\n",
       "      <th>1</th>\n",
       "      <td>-1.550486</td>\n",
       "      <td>-1.121881</td>\n",
       "      <td>1.331988</td>\n",
       "      <td>2.266624</td>\n",
       "      <td>-0.854639</td>\n",
       "      <td>0.681531</td>\n",
       "      <td>1.471907</td>\n",
       "      <td>-0.091238</td>\n",
       "      <td>0.0</td>\n",
       "      <td>0</td>\n",
       "      <td>...</td>\n",
       "      <td>0</td>\n",
       "      <td>1</td>\n",
       "      <td>1</td>\n",
       "      <td>0</td>\n",
       "      <td>1</td>\n",
       "      <td>0</td>\n",
       "      <td>0</td>\n",
       "      <td>0</td>\n",
       "      <td>0</td>\n",
       "      <td>0</td>\n",
       "    </tr>\n",
       "    <tr>\n",
       "      <th>2</th>\n",
       "      <td>-0.628821</td>\n",
       "      <td>1.437322</td>\n",
       "      <td>1.331988</td>\n",
       "      <td>0.299211</td>\n",
       "      <td>-0.854639</td>\n",
       "      <td>0.681531</td>\n",
       "      <td>0.773446</td>\n",
       "      <td>-0.091238</td>\n",
       "      <td>2.0</td>\n",
       "      <td>0</td>\n",
       "      <td>...</td>\n",
       "      <td>0</td>\n",
       "      <td>1</td>\n",
       "      <td>1</td>\n",
       "      <td>0</td>\n",
       "      <td>1</td>\n",
       "      <td>0</td>\n",
       "      <td>0</td>\n",
       "      <td>0</td>\n",
       "      <td>0</td>\n",
       "      <td>0</td>\n",
       "    </tr>\n",
       "    <tr>\n",
       "      <th>3</th>\n",
       "      <td>0.882105</td>\n",
       "      <td>-1.660660</td>\n",
       "      <td>0.372697</td>\n",
       "      <td>0.463162</td>\n",
       "      <td>-0.854639</td>\n",
       "      <td>0.681531</td>\n",
       "      <td>-0.856296</td>\n",
       "      <td>-1.184620</td>\n",
       "      <td>4.0</td>\n",
       "      <td>0</td>\n",
       "      <td>...</td>\n",
       "      <td>0</td>\n",
       "      <td>1</td>\n",
       "      <td>0</td>\n",
       "      <td>1</td>\n",
       "      <td>1</td>\n",
       "      <td>0</td>\n",
       "      <td>0</td>\n",
       "      <td>0</td>\n",
       "      <td>0</td>\n",
       "      <td>0</td>\n",
       "    </tr>\n",
       "    <tr>\n",
       "      <th>4</th>\n",
       "      <td>1.033198</td>\n",
       "      <td>0.427110</td>\n",
       "      <td>0.132875</td>\n",
       "      <td>-0.520545</td>\n",
       "      <td>-0.854639</td>\n",
       "      <td>0.681531</td>\n",
       "      <td>0.851053</td>\n",
       "      <td>1.002144</td>\n",
       "      <td>2.0</td>\n",
       "      <td>0</td>\n",
       "      <td>...</td>\n",
       "      <td>0</td>\n",
       "      <td>1</td>\n",
       "      <td>1</td>\n",
       "      <td>0</td>\n",
       "      <td>0</td>\n",
       "      <td>1</td>\n",
       "      <td>0</td>\n",
       "      <td>0</td>\n",
       "      <td>0</td>\n",
       "      <td>0</td>\n",
       "    </tr>\n",
       "  </tbody>\n",
       "</table>\n",
       "<p>5 rows × 115 columns</p>\n",
       "</div>"
      ],
      "text/plain": [
       "   Transportation expense  Distance from Residence to Work  Service time  \\\n",
       "0                1.033198                         0.427110      0.132875   \n",
       "1               -1.550486                        -1.121881      1.331988   \n",
       "2               -0.628821                         1.437322      1.331988   \n",
       "3                0.882105                        -1.660660      0.372697   \n",
       "4                1.033198                         0.427110      0.132875   \n",
       "\n",
       "        Age  Work load Average/day   Hit target    Weight    Height  \\\n",
       "0 -0.520545               -0.854639    0.681531  0.851053  1.002144   \n",
       "1  2.266624               -0.854639    0.681531  1.471907 -0.091238   \n",
       "2  0.299211               -0.854639    0.681531  0.773446 -0.091238   \n",
       "3  0.463162               -0.854639    0.681531 -0.856296 -1.184620   \n",
       "4 -0.520545               -0.854639    0.681531  0.851053  1.002144   \n",
       "\n",
       "   Absenteeism time in hours  ID_1.0  ...  Social drinker_0.0  \\\n",
       "0                        4.0       0  ...                   0   \n",
       "1                        0.0       0  ...                   0   \n",
       "2                        2.0       0  ...                   0   \n",
       "3                        4.0       0  ...                   0   \n",
       "4                        2.0       0  ...                   0   \n",
       "\n",
       "   Social drinker_1.0  Social smoker_0.0  Social smoker_1.0  Pet_0.0  Pet_1.0  \\\n",
       "0                   1                  1                  0        0        1   \n",
       "1                   1                  1                  0        1        0   \n",
       "2                   1                  1                  0        1        0   \n",
       "3                   1                  0                  1        1        0   \n",
       "4                   1                  1                  0        0        1   \n",
       "\n",
       "   Pet_2.0  Pet_4.0  Pet_5.0  Pet_8.0  \n",
       "0        0        0        0        0  \n",
       "1        0        0        0        0  \n",
       "2        0        0        0        0  \n",
       "3        0        0        0        0  \n",
       "4        0        0        0        0  \n",
       "\n",
       "[5 rows x 115 columns]"
      ]
     },
     "execution_count": 55,
     "metadata": {},
     "output_type": "execute_result"
    }
   ],
   "source": [
    "df.head()"
   ]
  },
  {
   "cell_type": "code",
   "execution_count": 56,
   "metadata": {},
   "outputs": [
    {
     "data": {
      "text/plain": [
       "(740, 115)"
      ]
     },
     "execution_count": 56,
     "metadata": {},
     "output_type": "execute_result"
    }
   ],
   "source": [
    "df.shape"
   ]
  },
  {
   "cell_type": "markdown",
   "metadata": {},
   "source": [
    "# Dimension Reduction"
   ]
  },
  {
   "cell_type": "code",
   "execution_count": 57,
   "metadata": {},
   "outputs": [
    {
     "data": {
      "text/plain": [
       "[<matplotlib.lines.Line2D at 0xa824178>]"
      ]
     },
     "execution_count": 57,
     "metadata": {},
     "output_type": "execute_result"
    },
    {
     "data": {
      "image/png": "[encoded data removed]",
      "text/plain": [
       "<Figure size 432x288 with 1 Axes>"
      ]
     },
     "metadata": {},
     "output_type": "display_data"
    }
   ],
   "source": [
    "from sklearn.decomposition import PCA\n",
    "X = df.values\n",
    "pca = PCA(n_components=115)\n",
    "pca.fit(X)\n",
    "\n",
    "var=np.cumsum(np.round(pca.explained_variance_ratio_, decimals=4)*100)\n",
    "\n",
    "plt.plot(var)\n"
   ]
  },
  {
   "cell_type": "markdown",
   "metadata": {},
   "source": [
    "Around 98%+ variance can be explained by 42 variables"
   ]
  },
  {
   "cell_type": "code",
   "execution_count": 58,
   "metadata": {},
   "outputs": [
    {
     "data": {
      "text/plain": [
       "PCA(n_components=42)"
      ]
     },
     "execution_count": 58,
     "metadata": {},
     "output_type": "execute_result"
    }
   ],
   "source": [
    "pca = PCA(n_components=42)\n",
    "pca.fit(X)"
   ]
  },
  {
   "cell_type": "markdown",
   "metadata": {},
   "source": [
    "# Modelling"
   ]
  },
  {
   "cell_type": "code",
   "execution_count": 59,
   "metadata": {},
   "outputs": [],
   "source": [
    "X_train, X_test, y_train, y_test = train_test_split(X,y,test_size=0.2, random_state = 102)"
   ]
  },
  {
   "cell_type": "markdown",
   "metadata": {},
   "source": [
    "#### Linear Regression"
   ]
  },
  {
   "cell_type": "code",
   "execution_count": 60,
   "metadata": {},
   "outputs": [
    {
     "data": {
      "text/plain": [
       "LinearRegression()"
      ]
     },
     "execution_count": 60,
     "metadata": {},
     "output_type": "execute_result"
    }
   ],
   "source": [
    "from sklearn.linear_model import LinearRegression\n",
    "lm = LinearRegression()\n",
    "lm.fit(X_train,y_train)"
   ]
  },
  {
   "cell_type": "code",
   "execution_count": 61,
   "metadata": {},
   "outputs": [],
   "source": [
    "y_pred = lm.predict(X_test)"
   ]
  },
  {
   "cell_type": "code",
   "execution_count": 62,
   "metadata": {},
   "outputs": [
    {
     "name": "stdout",
     "output_type": "stream",
     "text": [
      "R square Score for Linear Regression : 0.9999999999931274\n"
     ]
    }
   ],
   "source": [
    "from sklearn.metrics import r2_score\n",
    "score = r2_score(y_test, y_pred)\n",
    "print(\"R square Score for Linear Regression :\" , score)"
   ]
  },
  {
   "cell_type": "markdown",
   "metadata": {},
   "source": [
    "#### Decision Tree Regressor"
   ]
  },
  {
   "cell_type": "code",
   "execution_count": 63,
   "metadata": {},
   "outputs": [],
   "source": [
    "from sklearn.tree import DecisionTreeRegressor\n",
    "dt = DecisionTreeRegressor(max_depth=2)\n",
    "dt.fit(X_train,y_train)\n",
    "y_pred = dt.predict(X_test)"
   ]
  },
  {
   "cell_type": "code",
   "execution_count": 64,
   "metadata": {},
   "outputs": [
    {
     "name": "stdout",
     "output_type": "stream",
     "text": [
      "R square Score for Decision Tree : 0.9613241597122618\n"
     ]
    }
   ],
   "source": [
    "score = r2_score(y_test, y_pred)\n",
    "print(\"R square Score for Decision Tree :\" , score)"
   ]
  },
  {
   "cell_type": "markdown",
   "metadata": {},
   "source": [
    "#### Random Forest "
   ]
  },
  {
   "cell_type": "code",
   "execution_count": 65,
   "metadata": {},
   "outputs": [],
   "source": [
    "from sklearn.ensemble import RandomForestRegressor\n",
    "rf = RandomForestRegressor(n_estimators= 300, random_state=102)\n",
    "rf.fit(X_train,y_train)\n",
    "y_pred = rf.predict(X_test)"
   ]
  },
  {
   "cell_type": "code",
   "execution_count": 66,
   "metadata": {},
   "outputs": [
    {
     "name": "stdout",
     "output_type": "stream",
     "text": [
      "R square Score for Random forest : 0.9999781808732731\n"
     ]
    }
   ],
   "source": [
    "score = r2_score(y_test, y_pred)\n",
    "print(\"R square Score for Random forest :\" , score)"
   ]
  },
  {
   "cell_type": "markdown",
   "metadata": {},
   "source": [
    "### R Squared value (Coefficient of Determination)"
   ]
  },
  {
   "cell_type": "markdown",
   "metadata": {},
   "source": [
    "The coefficient of determination, denoted R^2 or r^2 and pronounced \"R squared\", is the proportion of the variance in the dependent variable that is predictable from the independent variable(s).\n",
    "\n",
    "It is a statistic used in the context of statistical models whose main purpose is either the prediction of future outcomes or the testing of hypotheses, on the basis of other related information. It provides a measure of how well observed outcomes are replicated by the model, based on the proportion of total variation of outcomes explained by the model.\n",
    "\n",
    "R^2 is a statistic that will give some information about the goodness of fit of a model. In regression, the R^2 coefficient of determination is a statistical measure of how well the regression predictions approximate the real data points. An R^2 of 1 indicates that the regression predictions perfectly fit the data."
   ]
  },
  {
   "cell_type": "markdown",
   "metadata": {},
   "source": [
    "The coefficient of determination(R squared) value of models are as follows : \n",
    "\n",
    "- Linear Regression :  0.9999999999931274\n",
    "- Random Forest : 0.9999781808732731\n",
    "- Decision Tree : 0.9613241597122618\n",
    "\n",
    "As we can see the Linear Regression model is the closest to 1 or 100% , hence we can conclude that __Linear Regression fits the best__.  "
   ]
  }
 ],
 "metadata": {
  "kernelspec": {
   "display_name": "Python 3",
   "language": "python",
   "name": "python3"
  },
  "language_info": {
   "codemirror_mode": {
    "name": "ipython",
    "version": 3
   },
   "file_extension": ".py",
   "mimetype": "text/x-python",
   "name": "python",
   "nbconvert_exporter": "python",
   "pygments_lexer": "ipython3",
   "version": "3.8.5"
  }
 },
 "nbformat": 4,
 "nbformat_minor": 4
}
